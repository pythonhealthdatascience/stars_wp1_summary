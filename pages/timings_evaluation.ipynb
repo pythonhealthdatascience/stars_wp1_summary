{
 "cells": [
  {
   "cell_type": "markdown",
   "metadata": {},
   "source": [
    "# Evaluation timings\n",
    "\n",
    "This notebook seperates the timings for evaluation of the repositories from timings for evaluation of the article."
   ]
  },
  {
   "cell_type": "code",
   "execution_count": 1,
   "metadata": {},
   "outputs": [],
   "source": [
    "from functions import calculate_times\n",
    "\n",
    "# Minutes used prior to today (same for all)\n",
    "used_to_date = 0"
   ]
  },
  {
   "cell_type": "code",
   "execution_count": 2,
   "metadata": {},
   "outputs": [
    {
     "name": "stdout",
     "output_type": "stream",
     "text": [
      "Time spent today: 30m, or 0h 30m\n",
      "Total used to date: 30m, or 0h 30m\n"
     ]
    }
   ],
   "source": [
    "# Shoaib 2022 Badges and STARS framework\n",
    "times = [\n",
    "    # Day 7\n",
    "    ('14.05', '14.17'),\n",
    "    ('14.18', '14.26'),\n",
    "    # Day 10\n",
    "    ('14.00', '14.10')\n",
    "]\n",
    "\n",
    "calculate_times(used_to_date, times, limit=False)"
   ]
  },
  {
   "cell_type": "code",
   "execution_count": 3,
   "metadata": {},
   "outputs": [
    {
     "name": "stdout",
     "output_type": "stream",
     "text": [
      "Time spent today: 116m, or 1h 56m\n",
      "Total used to date: 116m, or 1h 56m\n"
     ]
    }
   ],
   "source": [
    "# Shoaib 2022 Reporting guidelines\n",
    "times = [\n",
    "    # Day 7\n",
    "    ('14.28', '14.57'),\n",
    "    ('15.10', '15.47'),\n",
    "    ('15.48', '16.28'),\n",
    "    # Day 10\n",
    "    ('14.10', '14.20')\n",
    "]\n",
    "\n",
    "calculate_times(used_to_date, times, limit=False)"
   ]
  },
  {
   "cell_type": "code",
   "execution_count": 4,
   "metadata": {},
   "outputs": [
    {
     "name": "stdout",
     "output_type": "stream",
     "text": [
      "Time spent today: 17m, or 0h 17m\n",
      "Total used to date: 17m, or 0h 17m\n"
     ]
    }
   ],
   "source": [
    "# Huang 2019 Badges and STARS framework\n",
    "times = [\n",
    "    # Day 8\n",
    "    ('10.58', '11.06'),\n",
    "    ('11.07', '11.16')\n",
    "]\n",
    "\n",
    "calculate_times(used_to_date, times, limit=False)"
   ]
  },
  {
   "cell_type": "code",
   "execution_count": 5,
   "metadata": {},
   "outputs": [
    {
     "name": "stdout",
     "output_type": "stream",
     "text": [
      "Time spent today: 88m, or 1h 28m\n",
      "Total used to date: 88m, or 1h 28m\n"
     ]
    }
   ],
   "source": [
    "# Huang 2019 Reporting guidelines\n",
    "times = [\n",
    "    # Day 8\n",
    "    ('11.26', '11.51'),\n",
    "    ('12.00', '12.17'),\n",
    "    ('13.04', '13.18'),\n",
    "    ('13.19', '13.33'),\n",
    "    ('13.39', '13.43'),\n",
    "    # Day 9\n",
    "    ('08.22', '08.30'),\n",
    "    ('08.37', '08.41'),\n",
    "    ('10.53', '10.55')\n",
    "]\n",
    "\n",
    "calculate_times(used_to_date, times, limit=False)"
   ]
  },
  {
   "cell_type": "code",
   "execution_count": 6,
   "metadata": {},
   "outputs": [
    {
     "name": "stdout",
     "output_type": "stream",
     "text": [
      "Time spent today: 18m, or 0h 18m\n",
      "Total used to date: 18m, or 0h 18m\n"
     ]
    }
   ],
   "source": [
    "# Lim 2020 Badges and STARS framework\n",
    "times = [\n",
    "    # Day 4\n",
    "    ('13.57', '14.03'),\n",
    "    ('14.07', '14.16'),\n",
    "    ('16.40', '16.43')\n",
    "]\n",
    "\n",
    "calculate_times(used_to_date, times, limit=False)"
   ]
  },
  {
   "cell_type": "code",
   "execution_count": 7,
   "metadata": {},
   "outputs": [
    {
     "name": "stdout",
     "output_type": "stream",
     "text": [
      "Time spent today: 72m, or 1h 12m\n",
      "Total used to date: 72m, or 1h 12m\n"
     ]
    }
   ],
   "source": [
    "# Lim 2020 Reporting guidelines\n",
    "times = [\n",
    "    # Day 4\n",
    "    ('14.17', '15.05'),\n",
    "    ('16.06', '16.26'),\n",
    "    ('16.43', '16.47')\n",
    "]\n",
    "\n",
    "calculate_times(used_to_date, times, limit=False)"
   ]
  },
  {
   "cell_type": "code",
   "execution_count": 8,
   "metadata": {},
   "outputs": [
    {
     "name": "stdout",
     "output_type": "stream",
     "text": [
      "Time spent today: 18m, or 0h 18m\n",
      "Total used to date: 18m, or 0h 18m\n"
     ]
    }
   ],
   "source": [
    "# Kim 2021 Badges and STARS framework\n",
    "times = [\n",
    "    ('10.54', '10.59'),\n",
    "    ('11.00', '11.05'),\n",
    "    ('11.18', '11.23'),\n",
    "    ('11.29', '11.32')]\n",
    "\n",
    "calculate_times(used_to_date, times, limit=False)"
   ]
  },
  {
   "cell_type": "code",
   "execution_count": 9,
   "metadata": {},
   "outputs": [
    {
     "name": "stdout",
     "output_type": "stream",
     "text": [
      "Time spent today: 132m, or 2h 12m\n",
      "Total used to date: 132m, or 2h 12m\n"
     ]
    }
   ],
   "source": [
    "# Kim 2021 Reporting Guidelines\n",
    "times = [\n",
    "    ('11.33', '12.10'),\n",
    "    ('12.55', '13.10'),\n",
    "    ('13.15', '13.30'),\n",
    "    ('13.48', '14.18'),\n",
    "    ('09.34', '10.06'),\n",
    "    ('10.07', '10.10')]\n",
    "\n",
    "calculate_times(used_to_date, times, limit=False)"
   ]
  },
  {
   "cell_type": "code",
   "execution_count": 10,
   "metadata": {},
   "outputs": [
    {
     "name": "stdout",
     "output_type": "stream",
     "text": [
      "Time spent today: 19m, or 0h 19m\n",
      "Total used to date: 19m, or 0h 19m\n"
     ]
    }
   ],
   "source": [
    "# Anagnostou 2022 Badges and STARS framework\n",
    "times = [\n",
    "    ('09.47', '10.00'),\n",
    "    ('10.03', '10.09')\n",
    "]\n",
    "\n",
    "calculate_times(used_to_date, times, limit=False)"
   ]
  },
  {
   "cell_type": "code",
   "execution_count": 11,
   "metadata": {},
   "outputs": [
    {
     "name": "stdout",
     "output_type": "stream",
     "text": [
      "Time spent today: 53m, or 0h 53m\n",
      "Total used to date: 53m, or 0h 53m\n"
     ]
    }
   ],
   "source": [
    "# Anagnostou 2022 Reporting guidelines\n",
    "times = [\n",
    "    ('10.17', '10.46'),\n",
    "    ('10.59', '11.23')\n",
    "]\n",
    "\n",
    "calculate_times(used_to_date, times, limit=False)"
   ]
  },
  {
   "cell_type": "code",
   "execution_count": 12,
   "metadata": {},
   "outputs": [],
   "source": [
    "# TODO: Add Johnson et al. 2021"
   ]
  }
 ],
 "metadata": {
  "kernelspec": {
   "display_name": "stars_wp1_summary",
   "language": "python",
   "name": "python3"
  },
  "language_info": {
   "codemirror_mode": {
    "name": "ipython",
    "version": 3
   },
   "file_extension": ".py",
   "mimetype": "text/x-python",
   "name": "python",
   "nbconvert_exporter": "python",
   "pygments_lexer": "ipython3",
   "version": "3.10.12"
  }
 },
 "nbformat": 4,
 "nbformat_minor": 2
}
